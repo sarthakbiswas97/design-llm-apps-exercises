{
  "nbformat": 4,
  "nbformat_minor": 0,
  "metadata": {
    "colab": {
      "provenance": [],
      "authorship_tag": "ABX9TyP5cPYZokN4WCQ5eN/B22qV",
      "include_colab_link": true
    },
    "kernelspec": {
      "name": "python3",
      "display_name": "Python 3"
    },
    "language_info": {
      "name": "python"
    }
  },
  "cells": [
    {
      "cell_type": "markdown",
      "metadata": {
        "id": "view-in-github",
        "colab_type": "text"
      },
      "source": [
        "<a href=\"https://colab.research.google.com/github/sarthakbiswas97/design-llm-apps-exercises/blob/main/vocab_and__token.ipynb\" target=\"_parent\"><img src=\"https://colab.research.google.com/assets/colab-badge.svg\" alt=\"Open In Colab\"/></a>"
      ]
    },
    {
      "cell_type": "code",
      "execution_count": null,
      "metadata": {
        "collapsed": true,
        "id": "cZqXLJMQsR50"
      },
      "outputs": [],
      "source": [
        "! pip install transformers accelerate sentencepiece"
      ]
    },
    {
      "cell_type": "code",
      "source": [
        "from transformers import T5Tokenizer, T5ForConditionalGeneration\n",
        "from accelerate import Accelerator\n",
        "\n",
        "accelerator = Accelerator()\n",
        "device = accelerator.device\n",
        "\n",
        "tokenizer = T5Tokenizer.from_pretrained(\"google/flan-t5-large\")\n",
        "model = T5ForConditionalGeneration.from_pretrained(\"google/flan-t5-large\", device_map=device)\n",
        "\n",
        "\n",
        "input_text = \"what is 937 + 934?\"\n",
        "\n",
        "# input_ids = tokenizer(input_text, return_tensors=\"pt\").input_ids.to(device)\n",
        "# outputs = model.generate(input_ids)\n",
        "# print(tokenizer.decode(outputs[0]))\n",
        "\n",
        "encoded_text = tokenizer.encode(input_text)\n",
        "tokens = tokenizer.convert_ids_to_tokens(encoded_text)\n",
        "print(encoded_text)\n",
        "print(tokens)\n",
        "print(tokenizer.decode(encoded_text))\n",
        "\n",
        "\n",
        "\n"
      ],
      "metadata": {
        "id": "MWrlNTmftV7n"
      },
      "execution_count": null,
      "outputs": []
    }
  ]
}