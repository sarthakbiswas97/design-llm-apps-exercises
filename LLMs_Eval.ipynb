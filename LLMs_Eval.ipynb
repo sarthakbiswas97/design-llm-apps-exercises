{
  "nbformat": 4,
  "nbformat_minor": 0,
  "metadata": {
    "colab": {
      "provenance": [],
      "gpuType": "T4",
      "authorship_tag": "ABX9TyOLAsbof8LfyK7YuKln3fXk",
      "include_colab_link": true
    },
    "kernelspec": {
      "name": "python3",
      "display_name": "Python 3"
    },
    "language_info": {
      "name": "python"
    },
    "accelerator": "GPU"
  },
  "cells": [
    {
      "cell_type": "markdown",
      "metadata": {
        "id": "view-in-github",
        "colab_type": "text"
      },
      "source": [
        "<a href=\"https://colab.research.google.com/github/sarthakbiswas97/design-llm-apps-exercises/blob/main/LLMs_Eval.ipynb\" target=\"_parent\"><img src=\"https://colab.research.google.com/assets/colab-badge.svg\" alt=\"Open In Colab\"/></a>"
      ]
    },
    {
      "cell_type": "code",
      "execution_count": null,
      "metadata": {
        "collapsed": true,
        "id": "2Rnb424YDBKF"
      },
      "outputs": [],
      "source": [
        "!nvidia-smi"
      ]
    },
    {
      "cell_type": "code",
      "source": [
        "# Install the evaluation framework and libraries to load models\n",
        "!pip install lm-eval\n",
        "!pip install transformers accelerate bitsandbytes"
      ],
      "metadata": {
        "collapsed": true,
        "id": "_6IdFjks8LI3"
      },
      "execution_count": null,
      "outputs": []
    },
    {
      "cell_type": "code",
      "source": [
        "# from google.colab import userdata\n",
        "# userdata.get('secretName')\n",
        "\n",
        "from huggingface_hub import notebook_login\n",
        "notebook_login()"
      ],
      "metadata": {
        "id": "B3SNW1kSAFXd"
      },
      "execution_count": null,
      "outputs": []
    },
    {
      "cell_type": "code",
      "source": [
        "# Search the task list for anything containing \"logic\" or \"fallacy\"\n",
        "!lm_eval --tasks list | grep -E 'logic|fallacy'"
      ],
      "metadata": {
        "collapsed": true,
        "id": "aoS0ECcxRUc7"
      },
      "execution_count": null,
      "outputs": []
    },
    {
      "cell_type": "code",
      "source": [
        "!lm_eval --model hf \\\n",
        "         --model_args pretrained=mistralai/Mistral-7B-v0.1,load_in_4bit=True \\\n",
        "         --tasks bigbench_logical_fallacy_detection_multiple_choice \\\n",
        "         --device cuda:0 \\\n",
        "         --batch_size 8"
      ],
      "metadata": {
        "id": "gqxNo30a_Hpd"
      },
      "execution_count": null,
      "outputs": []
    }
  ]
}