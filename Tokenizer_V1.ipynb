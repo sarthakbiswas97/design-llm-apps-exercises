{
  "nbformat": 4,
  "nbformat_minor": 0,
  "metadata": {
    "colab": {
      "provenance": [],
      "authorship_tag": "ABX9TyMiNj0wgEBSz9j2qDoKDQfL",
      "include_colab_link": true
    },
    "kernelspec": {
      "name": "python3",
      "display_name": "Python 3"
    },
    "language_info": {
      "name": "python"
    }
  },
  "cells": [
    {
      "cell_type": "markdown",
      "metadata": {
        "id": "view-in-github",
        "colab_type": "text"
      },
      "source": [
        "<a href=\"https://colab.research.google.com/github/sarthakbiswas97/design-llm-apps-exercises/blob/main/Tokenizer_V1.ipynb\" target=\"_parent\"><img src=\"https://colab.research.google.com/assets/colab-badge.svg\" alt=\"Open In Colab\"/></a>"
      ]
    },
    {
      "cell_type": "markdown",
      "source": [
        "Word, subword Tokenizer. (A simple tokenizer)\n",
        "STEPS:\n",
        "1. splitting text into individual word and subwords.\n",
        "2. Convert tokens into token IDs."
      ],
      "metadata": {
        "id": "SWXp_vCMJYgY"
      }
    },
    {
      "cell_type": "code",
      "source": [
        "import re\n",
        "\n",
        "with open(\"the_verdict.txt\", \"r\") as file:\n",
        "  raw_text_from_book = file.read()\n",
        "\n",
        "# remove all the whitespaces, and special charaacters to get the token list\n",
        "preprocessed_data = re.split(r'([,.:;?\"()_!\\']|--|\\s)', raw_text_from_book )\n",
        "\n",
        "preprocessed_data = [token for token in preprocessed_data if token.strip()]\n",
        "print(preprocessed_data[:30])\n",
        "\n",
        "print(len(preprocessed_data))\n",
        "\n",
        "# tokenization is done, we've list of tokens\n",
        "\n",
        "# next task is to create token ids for each token,\n",
        "# (basically mapping each token to a distinct integer)\n",
        "\n",
        "#  ---- Build Vocabulary ------\n",
        "all_distinct_tokens = sorted(set(preprocessed_data))\n",
        "print(all_distinct_tokens[:30])\n",
        "print(len(all_distinct_tokens))\n",
        "\n",
        "vocabulary = {token:integer for integer, token in enumerate(all_distinct_tokens, 1)}\n",
        "\n",
        "# for i, item in enumerate(vocabulary.items()):\n",
        "#   print(item)\n",
        "#   if i>=30:\n",
        "#     break\n",
        "\n",
        "\n"
      ],
      "metadata": {
        "collapsed": true,
        "id": "f09bDqZuM4cG"
      },
      "execution_count": null,
      "outputs": []
    },
    {
      "cell_type": "code",
      "source": [
        "class TokenizerV1:\n",
        "  def __init__(self, vocabulary):\n",
        "    self.str_to_int = vocabulary\n",
        "    self.int_to_str = {i:s for s,i in vocabulary.items()}\n",
        "\n",
        "  def encode(self, text):\n",
        "    preprocessed = re.split(r'([,.:;?\"()_!\\']|--|\\s+)', text)\n",
        "    preprocessed = [token.strip() for token in preprocessed if token.strip()]\n",
        "\n",
        "    ids = [self.str_to_int[s] for s in preprocessed]\n",
        "    return ids\n",
        "\n",
        "  def decode(self, ids):\n",
        "    text = \" \". join([self.int_to_str[i] for i in ids])\n",
        "    #  Replace spaces before the specified punctuations\n",
        "    text = re.sub(r'\\s+([,.:;?!\"(\\')])', r'\\1', text)\n",
        "    return text"
      ],
      "metadata": {
        "id": "C2umKByjb4sc"
      },
      "execution_count": null,
      "outputs": []
    },
    {
      "cell_type": "code",
      "source": [
        "tokenizer = TokenizerV1(vocabulary)\n",
        "\n",
        "text = \"\"\"It's the last he painted, you know,\" Mrs. Gisburn with pardonable pride.\"\"\"\n",
        "\n",
        "ids = tokenizer.encode(text)\n",
        "\n",
        "print(ids)\n",
        "\n",
        "get_text_back = tokenizer.decode(ids)\n",
        "\n",
        "print(get_text_back)\n",
        "\n",
        "# another_text = \"hello there\"\n",
        "#   hello is not is the vocabulary\n",
        "\n",
        "# print(tokenizer.encode(another_text))\n",
        "#   this will throw an error because \"hello\" is not there in vocabulary (unknown word)\n",
        "\n",
        "\n"
      ],
      "metadata": {
        "id": "_z49GgUoyisL"
      },
      "execution_count": null,
      "outputs": []
    }
  ]
}