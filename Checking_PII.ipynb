{
  "nbformat": 4,
  "nbformat_minor": 0,
  "metadata": {
    "colab": {
      "provenance": [],
      "authorship_tag": "ABX9TyNs8ZjZCugfrBP2G7tsnY/S",
      "include_colab_link": true
    },
    "kernelspec": {
      "name": "python3",
      "display_name": "Python 3"
    },
    "language_info": {
      "name": "python"
    }
  },
  "cells": [
    {
      "cell_type": "markdown",
      "metadata": {
        "id": "view-in-github",
        "colab_type": "text"
      },
      "source": [
        "<a href=\"https://colab.research.google.com/github/sarthakbiswas97/design-llm-apps-exercises/blob/main/Checking_PII.ipynb\" target=\"_parent\"><img src=\"https://colab.research.google.com/assets/colab-badge.svg\" alt=\"Open In Colab\"/></a>"
      ]
    },
    {
      "cell_type": "markdown",
      "source": [],
      "metadata": {
        "id": "su-hzW5ARKSn"
      }
    },
    {
      "cell_type": "markdown",
      "source": [
        "**EXERCISE: Use the search function in the dataset viewer for the [RefinedWeb](https://huggingface.co/datasets/tiiuae/falcon-refinedweb) pre-training dataset to assess presence of PII. For example, search for “gmail.com.” What do you find?**"
      ],
      "metadata": {
        "id": "No7NwCGFQmcs"
      }
    },
    {
      "cell_type": "markdown",
      "source": [],
      "metadata": {
        "id": "BHsk-kXnQxRY"
      }
    },
    {
      "cell_type": "code",
      "execution_count": null,
      "metadata": {
        "collapsed": true,
        "id": "WNptd1vfQcoS"
      },
      "outputs": [],
      "source": [
        "!pip install -U datasets"
      ]
    },
    {
      "cell_type": "code",
      "source": [
        "# Run this immediately in a fresh runtime\n",
        "import shutil\n",
        "import os\n",
        "\n",
        "print(\"Attempting to clear Hugging Face datasets cache...\")\n",
        "\n",
        "# More comprehensive list of potential cache/hub locations\n",
        "paths_to_clear = [\n",
        "    \"/root/.cache/huggingface/datasets/tiiuae___falcon-refinedweb\", # Specific dataset cache\n",
        "    \"/root/.cache/huggingface/hub/datasets--tiiuae--falcon-refinedweb\", # Specific dataset downloads/repo info\n",
        "    \"/root/.cache/huggingface/datasets\", # Entire datasets cache (more aggressive)\n",
        "]\n",
        "\n",
        "for path_to_clear in paths_to_clear:\n",
        "    if os.path.exists(path_to_clear):\n",
        "        print(f\"Found: {path_to_clear}\")\n",
        "        try:\n",
        "            # If it's a directory, remove the whole tree\n",
        "            if os.path.isdir(path_to_clear):\n",
        "                shutil.rmtree(path_to_clear)\n",
        "                print(f\"Successfully removed directory: {path_to_clear}\")\n",
        "            # If it's a file (less likely for these paths, but just in case)\n",
        "            elif os.path.isfile(path_to_clear):\n",
        "                os.remove(path_to_clear)\n",
        "                print(f\"Successfully removed file: {path_to_clear}\")\n",
        "        except Exception as e:\n",
        "            print(f\"Error removing {path_to_clear}: {e}\")\n",
        "    else:\n",
        "        print(f\"Not found (this is okay): {path_to_clear}\")\n",
        "\n",
        "print(\"Cache clearing attempt finished. Please run your dataset loading script in the next cell.\")\n"
      ],
      "metadata": {
        "id": "e9SDEHlIbaVb"
      },
      "execution_count": null,
      "outputs": []
    },
    {
      "cell_type": "code",
      "source": [
        "\n",
        "from datasets import load_dataset\n",
        "\n",
        "DATASET_NAME = \"tiiuae/falcon-refinedweb\"\n",
        "DATASET_SPLIT = \"train\"\n",
        "SEARCH_TERM = \"gmail.com\" # Or whatever you're searching for\n",
        "MAX_FINDS = 5\n",
        "MAX_EXAMPLES_TO_SCAN = 10000 # Start small to test, then increase if needed\n",
        "\n",
        "print(f\"Attempting to load dataset: {DATASET_NAME} (streaming)\")\n",
        "try:\n",
        "    streaming_dataset = load_dataset(\n",
        "        DATASET_NAME,\n",
        "        split=DATASET_SPLIT,\n",
        "        streaming=True\n",
        "    )\n",
        "    print(\"Dataset loaded successfully in streaming mode.\")\n",
        "\n",
        "    found_count = 0\n",
        "    examples_scanned = 0\n",
        "    print(f\"Searching for '{SEARCH_TERM}'...\")\n",
        "\n",
        "    for example in streaming_dataset:\n",
        "        examples_scanned += 1\n",
        "        text_to_search = None\n",
        "        if \"content\" in example and example[\"content\"] is not None:\n",
        "            text_to_search = example[\"content\"]\n",
        "        elif \"text\" in example and example[\"text\"] is not None: # Fallback\n",
        "            text_to_search = example[\"text\"]\n",
        "\n",
        "        if text_to_search and SEARCH_TERM.lower() in text_to_search.lower():\n",
        "            found_count += 1\n",
        "            print(f\"\\n--- Found Match #{found_count} (in example #{examples_scanned}) ---\")\n",
        "            snippet_length = 300\n",
        "            match_index = text_to_search.lower().find(SEARCH_TERM.lower())\n",
        "            start = max(0, match_index - (snippet_length // 2))\n",
        "            end = min(len(text_to_search), match_index + len(SEARCH_TERM) + (snippet_length // 2))\n",
        "            print(f\"...{text_to_search[start:end]}...\")\n",
        "\n",
        "        if found_count >= MAX_FINDS:\n",
        "            print(f\"\\nReached max finds ({MAX_FINDS}). Stopping search.\")\n",
        "            break\n",
        "        if MAX_EXAMPLES_TO_SCAN is not None and examples_scanned >= MAX_EXAMPLES_TO_SCAN:\n",
        "            print(f\"\\nReached max examples to scan ({MAX_EXAMPLES_TO_SCAN}). Stopping search.\")\n",
        "            break\n",
        "        if examples_scanned % 1000 == 0:\n",
        "            print(f\"Scanned {examples_scanned} examples, found {found_count} matches so far...\")\n",
        "\n",
        "    print(f\"\\n--- Search Summary ---\")\n",
        "    print(f\"Total examples scanned: {examples_scanned}\")\n",
        "    print(f\"Total matches found for '{SEARCH_TERM}': {found_count}\")\n",
        "\n",
        "except Exception as e:\n",
        "    print(f\"Error loading or processing dataset: {e}\")\n",
        "\n"
      ],
      "metadata": {
        "id": "nYYBmHyaRJ94"
      },
      "execution_count": null,
      "outputs": []
    },
    {
      "cell_type": "markdown",
      "source": [],
      "metadata": {
        "id": "q7oPCZ1zsG3y"
      }
    },
    {
      "cell_type": "code",
      "source": [],
      "metadata": {
        "id": "TKSOADtwsFaz"
      },
      "execution_count": null,
      "outputs": []
    }
  ]
}